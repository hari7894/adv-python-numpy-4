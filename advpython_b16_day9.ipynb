{
 "cells": [
  {
   "cell_type": "code",
   "execution_count": 1,
   "metadata": {},
   "outputs": [],
   "source": [
    "import numpy as np"
   ]
  },
  {
   "cell_type": "code",
   "execution_count": 2,
   "metadata": {},
   "outputs": [],
   "source": [
    "students=np.array([['hari','sai','dola','krishna'],[35,56,78,98],[301,302,303,304]])"
   ]
  },
  {
   "cell_type": "code",
   "execution_count": 3,
   "metadata": {},
   "outputs": [
    {
     "name": "stdout",
     "output_type": "stream",
     "text": [
      "['hari' 'sai' 'dola' 'krishna']\n",
      "['35' '56' '78' '98']\n",
      "['301' '302' '303' '304']\n"
     ]
    }
   ],
   "source": [
    "for i in students:\n",
    "    print(i)"
   ]
  },
  {
   "cell_type": "code",
   "execution_count": 6,
   "metadata": {},
   "outputs": [
    {
     "name": "stdout",
     "output_type": "stream",
     "text": [
      "i= ['hari' 'sai' 'dola' 'krishna']\n",
      "i= ['35' '56' '78' '98']\n",
      "i= ['301' '302' '303' '304']\n"
     ]
    }
   ],
   "source": [
    "for i in students:\n",
    "    print('i=', i)"
   ]
  },
  {
   "cell_type": "code",
   "execution_count": 7,
   "metadata": {},
   "outputs": [],
   "source": [
    "#using flaten"
   ]
  },
  {
   "cell_type": "code",
   "execution_count": 8,
   "metadata": {},
   "outputs": [
    {
     "name": "stdout",
     "output_type": "stream",
     "text": [
      "hari\n",
      "sai\n",
      "dola\n",
      "krishna\n",
      "35\n",
      "56\n",
      "78\n",
      "98\n",
      "301\n",
      "302\n",
      "303\n",
      "304\n"
     ]
    }
   ],
   "source": [
    "for i in students.flatten(): #row based\n",
    "    print(i)"
   ]
  },
  {
   "cell_type": "code",
   "execution_count": 9,
   "metadata": {},
   "outputs": [
    {
     "name": "stdout",
     "output_type": "stream",
     "text": [
      "hari\n",
      "35\n",
      "301\n",
      "sai\n",
      "56\n",
      "302\n",
      "dola\n",
      "78\n",
      "303\n",
      "krishna\n",
      "98\n",
      "304\n"
     ]
    }
   ],
   "source": [
    "for i in students.flatten(order='F'):  #column based\n",
    "    print(i)"
   ]
  },
  {
   "cell_type": "code",
   "execution_count": 10,
   "metadata": {},
   "outputs": [
    {
     "name": "stdout",
     "output_type": "stream",
     "text": [
      "[['hari' 'sai' 'dola' 'krishna']\n",
      " ['35' '56' '78' '98']\n",
      " ['301' '302' '303' '304']]\n",
      "[['hari' 'sai' 'dola' 'krishna']\n",
      " ['35' '56' '78' '98']\n",
      " ['301' '302' '303' '304']]\n",
      "[['hari' 'sai' 'dola' 'krishna']\n",
      " ['35' '56' '78' '98']\n",
      " ['301' '302' '303' '304']]\n",
      "[['hari' 'sai' 'dola' 'krishna']\n",
      " ['35' '56' '78' '98']\n",
      " ['301' '302' '303' '304']]\n",
      "[['hari' 'sai' 'dola' 'krishna']\n",
      " ['35' '56' '78' '98']\n",
      " ['301' '302' '303' '304']]\n",
      "[['hari' 'sai' 'dola' 'krishna']\n",
      " ['35' '56' '78' '98']\n",
      " ['301' '302' '303' '304']]\n",
      "[['hari' 'sai' 'dola' 'krishna']\n",
      " ['35' '56' '78' '98']\n",
      " ['301' '302' '303' '304']]\n",
      "[['hari' 'sai' 'dola' 'krishna']\n",
      " ['35' '56' '78' '98']\n",
      " ['301' '302' '303' '304']]\n",
      "[['hari' 'sai' 'dola' 'krishna']\n",
      " ['35' '56' '78' '98']\n",
      " ['301' '302' '303' '304']]\n",
      "[['hari' 'sai' 'dola' 'krishna']\n",
      " ['35' '56' '78' '98']\n",
      " ['301' '302' '303' '304']]\n",
      "[['hari' 'sai' 'dola' 'krishna']\n",
      " ['35' '56' '78' '98']\n",
      " ['301' '302' '303' '304']]\n",
      "[['hari' 'sai' 'dola' 'krishna']\n",
      " ['35' '56' '78' '98']\n",
      " ['301' '302' '303' '304']]\n"
     ]
    }
   ],
   "source": [
    "for i in np.nditer(students):\n",
    "    print(students)"
   ]
  },
  {
   "cell_type": "code",
   "execution_count": 11,
   "metadata": {},
   "outputs": [
    {
     "data": {
      "text/plain": [
       "(3, 4)"
      ]
     },
     "execution_count": 11,
     "metadata": {},
     "output_type": "execute_result"
    }
   ],
   "source": [
    "np.shape(students)"
   ]
  },
  {
   "cell_type": "code",
   "execution_count": 12,
   "metadata": {},
   "outputs": [],
   "source": [
    "x=np.arange(16).reshape(4,4)"
   ]
  },
  {
   "cell_type": "code",
   "execution_count": 13,
   "metadata": {},
   "outputs": [
    {
     "data": {
      "text/plain": [
       "array([[ 0,  1,  2,  3],\n",
       "       [ 4,  5,  6,  7],\n",
       "       [ 8,  9, 10, 11],\n",
       "       [12, 13, 14, 15]])"
      ]
     },
     "execution_count": 13,
     "metadata": {},
     "output_type": "execute_result"
    }
   ],
   "source": [
    "x"
   ]
  },
  {
   "cell_type": "code",
   "execution_count": 14,
   "metadata": {},
   "outputs": [
    {
     "name": "stdout",
     "output_type": "stream",
     "text": [
      "0\n",
      "1\n",
      "2\n",
      "3\n",
      "4\n",
      "5\n",
      "6\n",
      "7\n",
      "8\n",
      "9\n",
      "10\n",
      "11\n",
      "12\n",
      "13\n",
      "14\n",
      "15\n"
     ]
    }
   ],
   "source": [
    "for i in np.nditer(x):  #row based\n",
    "    print(i)"
   ]
  },
  {
   "cell_type": "code",
   "execution_count": 15,
   "metadata": {},
   "outputs": [
    {
     "name": "stdout",
     "output_type": "stream",
     "text": [
      "0\n",
      "4\n",
      "8\n",
      "12\n",
      "1\n",
      "5\n",
      "9\n",
      "13\n",
      "2\n",
      "6\n",
      "10\n",
      "14\n",
      "3\n",
      "7\n",
      "11\n",
      "15\n"
     ]
    }
   ],
   "source": [
    "for i in np.nditer(x,order='F'):    #column based\n",
    "    print(i)"
   ]
  },
  {
   "cell_type": "code",
   "execution_count": null,
   "metadata": {},
   "outputs": [],
   "source": []
  }
 ],
 "metadata": {
  "kernelspec": {
   "display_name": "Python 3",
   "language": "python",
   "name": "python3"
  },
  "language_info": {
   "codemirror_mode": {
    "name": "ipython",
    "version": 3
   },
   "file_extension": ".py",
   "mimetype": "text/x-python",
   "name": "python",
   "nbconvert_exporter": "python",
   "pygments_lexer": "ipython3",
   "version": "3.7.6"
  }
 },
 "nbformat": 4,
 "nbformat_minor": 4
}
